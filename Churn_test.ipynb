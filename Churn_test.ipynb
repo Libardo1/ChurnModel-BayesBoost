{
 "cells": [
  {
   "cell_type": "markdown",
   "metadata": {},
   "source": [
    "# Churn Model\n",
    "## Model: XGBoost Algorithm with Bayesian Optimization"
   ]
  },
  {
   "cell_type": "code",
   "execution_count": 2,
   "metadata": {
    "collapsed": false
   },
   "outputs": [],
   "source": [
    "from __future__ import division\n",
    "import pandas as pd\n",
    "import numpy as np\n",
    "from lifelines import KaplanMeierFitter\n",
    "from matplotlib import pyplot as plt\n",
    "import matplotlib\n",
    "import seaborn as sns\n",
    "sns.set(style='whitegrid')\n",
    "%matplotlib inline\n",
    "matplotlib.rcParams['figure.figsize'] = (8.0, 6.0)"
   ]
  },
  {
   "cell_type": "code",
   "execution_count": 3,
   "metadata": {
    "collapsed": false,
    "scrolled": true
   },
   "outputs": [
    {
     "name": "stdout",
     "output_type": "stream",
     "text": [
      "number of features:  21\n",
      "['State', 'Account Length', 'Area Code', 'Phone', \"Int'l Plan\", 'VMail Plan', 'VMail Message', 'Day Mins', 'Day Calls', 'Day Charge', 'Eve Mins', 'Eve Calls', 'Eve Charge', 'Night Mins', 'Night Calls', 'Night Charge', 'Intl Mins', 'Intl Calls', 'Intl Charge', 'CustServ Calls', 'Churn?']\n"
     ]
    }
   ],
   "source": [
    "churn = pd.read_csv('churn.csv', )\n",
    "col_names = churn.columns.tolist()\n",
    "print \"number of features: \", len(col_names)\n",
    "print col_names"
   ]
  },
  {
   "cell_type": "code",
   "execution_count": 4,
   "metadata": {
    "collapsed": false,
    "scrolled": false
   },
   "outputs": [
    {
     "data": {
      "text/html": [
       "<div>\n",
       "<table border=\"1\" class=\"dataframe\">\n",
       "  <thead>\n",
       "    <tr style=\"text-align: right;\">\n",
       "      <th></th>\n",
       "      <th>State</th>\n",
       "      <th>Account Length</th>\n",
       "      <th>Area Code</th>\n",
       "      <th>Phone</th>\n",
       "      <th>Int'l Plan</th>\n",
       "      <th>VMail Plan</th>\n",
       "      <th>VMail Message</th>\n",
       "      <th>Day Mins</th>\n",
       "      <th>Day Calls</th>\n",
       "      <th>Day Charge</th>\n",
       "      <th>...</th>\n",
       "      <th>Eve Calls</th>\n",
       "      <th>Eve Charge</th>\n",
       "      <th>Night Mins</th>\n",
       "      <th>Night Calls</th>\n",
       "      <th>Night Charge</th>\n",
       "      <th>Intl Mins</th>\n",
       "      <th>Intl Calls</th>\n",
       "      <th>Intl Charge</th>\n",
       "      <th>CustServ Calls</th>\n",
       "      <th>Churn?</th>\n",
       "    </tr>\n",
       "  </thead>\n",
       "  <tbody>\n",
       "    <tr>\n",
       "      <th>0</th>\n",
       "      <td>KS</td>\n",
       "      <td>128</td>\n",
       "      <td>415</td>\n",
       "      <td>382-4657</td>\n",
       "      <td>no</td>\n",
       "      <td>yes</td>\n",
       "      <td>25</td>\n",
       "      <td>265.1</td>\n",
       "      <td>110</td>\n",
       "      <td>45.07</td>\n",
       "      <td>...</td>\n",
       "      <td>99</td>\n",
       "      <td>16.78</td>\n",
       "      <td>244.7</td>\n",
       "      <td>91</td>\n",
       "      <td>11.01</td>\n",
       "      <td>10.0</td>\n",
       "      <td>3</td>\n",
       "      <td>2.70</td>\n",
       "      <td>1</td>\n",
       "      <td>False.</td>\n",
       "    </tr>\n",
       "    <tr>\n",
       "      <th>1</th>\n",
       "      <td>OH</td>\n",
       "      <td>107</td>\n",
       "      <td>415</td>\n",
       "      <td>371-7191</td>\n",
       "      <td>no</td>\n",
       "      <td>yes</td>\n",
       "      <td>26</td>\n",
       "      <td>161.6</td>\n",
       "      <td>123</td>\n",
       "      <td>27.47</td>\n",
       "      <td>...</td>\n",
       "      <td>103</td>\n",
       "      <td>16.62</td>\n",
       "      <td>254.4</td>\n",
       "      <td>103</td>\n",
       "      <td>11.45</td>\n",
       "      <td>13.7</td>\n",
       "      <td>3</td>\n",
       "      <td>3.70</td>\n",
       "      <td>1</td>\n",
       "      <td>False.</td>\n",
       "    </tr>\n",
       "    <tr>\n",
       "      <th>2</th>\n",
       "      <td>NJ</td>\n",
       "      <td>137</td>\n",
       "      <td>415</td>\n",
       "      <td>358-1921</td>\n",
       "      <td>no</td>\n",
       "      <td>no</td>\n",
       "      <td>0</td>\n",
       "      <td>243.4</td>\n",
       "      <td>114</td>\n",
       "      <td>41.38</td>\n",
       "      <td>...</td>\n",
       "      <td>110</td>\n",
       "      <td>10.30</td>\n",
       "      <td>162.6</td>\n",
       "      <td>104</td>\n",
       "      <td>7.32</td>\n",
       "      <td>12.2</td>\n",
       "      <td>5</td>\n",
       "      <td>3.29</td>\n",
       "      <td>0</td>\n",
       "      <td>False.</td>\n",
       "    </tr>\n",
       "    <tr>\n",
       "      <th>3</th>\n",
       "      <td>OH</td>\n",
       "      <td>84</td>\n",
       "      <td>408</td>\n",
       "      <td>375-9999</td>\n",
       "      <td>yes</td>\n",
       "      <td>no</td>\n",
       "      <td>0</td>\n",
       "      <td>299.4</td>\n",
       "      <td>71</td>\n",
       "      <td>50.90</td>\n",
       "      <td>...</td>\n",
       "      <td>88</td>\n",
       "      <td>5.26</td>\n",
       "      <td>196.9</td>\n",
       "      <td>89</td>\n",
       "      <td>8.86</td>\n",
       "      <td>6.6</td>\n",
       "      <td>7</td>\n",
       "      <td>1.78</td>\n",
       "      <td>2</td>\n",
       "      <td>False.</td>\n",
       "    </tr>\n",
       "    <tr>\n",
       "      <th>4</th>\n",
       "      <td>OK</td>\n",
       "      <td>75</td>\n",
       "      <td>415</td>\n",
       "      <td>330-6626</td>\n",
       "      <td>yes</td>\n",
       "      <td>no</td>\n",
       "      <td>0</td>\n",
       "      <td>166.7</td>\n",
       "      <td>113</td>\n",
       "      <td>28.34</td>\n",
       "      <td>...</td>\n",
       "      <td>122</td>\n",
       "      <td>12.61</td>\n",
       "      <td>186.9</td>\n",
       "      <td>121</td>\n",
       "      <td>8.41</td>\n",
       "      <td>10.1</td>\n",
       "      <td>3</td>\n",
       "      <td>2.73</td>\n",
       "      <td>3</td>\n",
       "      <td>False.</td>\n",
       "    </tr>\n",
       "  </tbody>\n",
       "</table>\n",
       "<p>5 rows × 21 columns</p>\n",
       "</div>"
      ],
      "text/plain": [
       "  State  Account Length  Area Code     Phone Int'l Plan VMail Plan  \\\n",
       "0    KS             128        415  382-4657         no        yes   \n",
       "1    OH             107        415  371-7191         no        yes   \n",
       "2    NJ             137        415  358-1921         no         no   \n",
       "3    OH              84        408  375-9999        yes         no   \n",
       "4    OK              75        415  330-6626        yes         no   \n",
       "\n",
       "   VMail Message  Day Mins  Day Calls  Day Charge   ...    Eve Calls  \\\n",
       "0             25     265.1        110       45.07   ...           99   \n",
       "1             26     161.6        123       27.47   ...          103   \n",
       "2              0     243.4        114       41.38   ...          110   \n",
       "3              0     299.4         71       50.90   ...           88   \n",
       "4              0     166.7        113       28.34   ...          122   \n",
       "\n",
       "   Eve Charge  Night Mins  Night Calls  Night Charge  Intl Mins  Intl Calls  \\\n",
       "0       16.78       244.7           91         11.01       10.0           3   \n",
       "1       16.62       254.4          103         11.45       13.7           3   \n",
       "2       10.30       162.6          104          7.32       12.2           5   \n",
       "3        5.26       196.9           89          8.86        6.6           7   \n",
       "4       12.61       186.9          121          8.41       10.1           3   \n",
       "\n",
       "   Intl Charge  CustServ Calls  Churn?  \n",
       "0         2.70               1  False.  \n",
       "1         3.70               1  False.  \n",
       "2         3.29               0  False.  \n",
       "3         1.78               2  False.  \n",
       "4         2.73               3  False.  \n",
       "\n",
       "[5 rows x 21 columns]"
      ]
     },
     "execution_count": 4,
     "metadata": {},
     "output_type": "execute_result"
    }
   ],
   "source": [
    "churn.head()"
   ]
  },
  {
   "cell_type": "code",
   "execution_count": 5,
   "metadata": {
    "collapsed": false
   },
   "outputs": [
    {
     "name": "stdout",
     "output_type": "stream",
     "text": [
      "Should we drop the 'Phone' feature?  True\n"
     ]
    }
   ],
   "source": [
    "print \"Should we drop the 'Phone' feature? \", len(churn[\"Phone\"].unique()) == len(churn)"
   ]
  },
  {
   "cell_type": "code",
   "execution_count": 6,
   "metadata": {
    "collapsed": false
   },
   "outputs": [],
   "source": [
    "churn.drop(\"Phone\", axis = 1, inplace=True)"
   ]
  },
  {
   "cell_type": "code",
   "execution_count": 7,
   "metadata": {
    "collapsed": false
   },
   "outputs": [],
   "source": [
    "churn_map = {\"True.\": 1, \"False.\": 0}\n",
    "churn[\"Churn?\"] = churn[[\"Churn?\"]].applymap(lambda x: churn_map[x])\n",
    "\n",
    "# Don't need the following if using tree based algorithms\n",
    "plan_map = {\"yes\": 1, \"no\": 0}\n",
    "churn[\"Int'l Plan\"] = churn[[\"Int'l Plan\"]].applymap(lambda x: plan_map[x])\n",
    "churn[\"VMail Plan\"] = churn[[\"VMail Plan\"]].applymap(lambda x: plan_map[x])"
   ]
  },
  {
   "cell_type": "code",
   "execution_count": 8,
   "metadata": {
    "collapsed": false
   },
   "outputs": [
    {
     "name": "stdout",
     "output_type": "stream",
     "text": [
      "<class 'pandas.core.frame.DataFrame'>\n",
      "Int64Index: 3333 entries, 0 to 3332\n",
      "Data columns (total 20 columns):\n",
      "State             3333 non-null object\n",
      "Account Length    3333 non-null int64\n",
      "Area Code         3333 non-null int64\n",
      "Int'l Plan        3333 non-null int64\n",
      "VMail Plan        3333 non-null int64\n",
      "VMail Message     3333 non-null int64\n",
      "Day Mins          3333 non-null float64\n",
      "Day Calls         3333 non-null int64\n",
      "Day Charge        3333 non-null float64\n",
      "Eve Mins          3333 non-null float64\n",
      "Eve Calls         3333 non-null int64\n",
      "Eve Charge        3333 non-null float64\n",
      "Night Mins        3333 non-null float64\n",
      "Night Calls       3333 non-null int64\n",
      "Night Charge      3333 non-null float64\n",
      "Intl Mins         3333 non-null float64\n",
      "Intl Calls        3333 non-null int64\n",
      "Intl Charge       3333 non-null float64\n",
      "CustServ Calls    3333 non-null int64\n",
      "Churn?            3333 non-null int64\n",
      "dtypes: float64(8), int64(11), object(1)\n",
      "memory usage: 546.8+ KB\n"
     ]
    }
   ],
   "source": [
    "churn.info()"
   ]
  },
  {
   "cell_type": "markdown",
   "metadata": {},
   "source": [
    "### Survival Analysis\n",
    "Let's explore the survival curve. In our context, the survival is the churn rate (i.e. hen the phone subscriber leaves the service)\n",
    "\n",
    "#### Survival function\n",
    "\n",
    "Define an subsribers lifetime, defined as the time between when they first purchase the subsription and when they churned, as capital $T$. Let small $t$ represent number of days from when they were first subsribe that is, since there \"birth\". Then the survival function, $S(t)$, is defined as:\n",
    "\n",
    "$$ S(t) = P(T > t ) $$\n",
    "\n",
    "What is the probability that a randomly chosen individual from the population lasts longer than small t?\n",
    "\n",
    "#### Kaplan-Meier estimate\n",
    "\n",
    "IMO, the best way to estimate the survival function is using the Kaplan-Meier estimate. It's nonparametric, which means we don't assume the data follows any particular form:\n",
    "\n",
    "$$\\hat{S(t)} = \\prod_{i=0}^t \\left(1 - \\frac{d_i}{n_i}\\right), \\;\\; \\text{for all $t$}$$\n",
    "\n",
    "where $d_i$ are number of deaths at time $i$, and $n_i$ are the number of individuals in the population who are at risk of dieing (churn rate). Note that the above formula is for a specific $t$: if we compute this estimate over all $t$, then we get a curve.\n",
    "\n",
    "This formula can be derived from the following logic:\n",
    "\n",
    "$$P( T = 0 ) \\approx \\frac{d_0}{n_0}$$\n",
    "\n",
    "$$ \\Rightarrow P( T > 0 ) \\approx \\left(1 - \\frac{d_0}{n_0} \\right) $$\n",
    "\n",
    "$$ P( T > 1 ) = P( T > 1 \\;|\\; T > 0 )P( T > 0 ) \\\\ \\approx \\left(1 - \\frac{d_1}{n_1}\\right)\\left(1 - \\frac{d_0}{n_0}\\right)$$\n",
    "\n",
    "and so on..."
   ]
  },
  {
   "cell_type": "code",
   "execution_count": 9,
   "metadata": {
    "collapsed": false
   },
   "outputs": [],
   "source": [
    "kmf = KaplanMeierFitter()"
   ]
  },
  {
   "cell_type": "code",
   "execution_count": 10,
   "metadata": {
    "collapsed": false
   },
   "outputs": [
    {
     "data": {
      "text/plain": [
       "<lifelines.KaplanMeierFitter: fitted with 3333 observations, 2850 censored>"
      ]
     },
     "execution_count": 10,
     "metadata": {},
     "output_type": "execute_result"
    }
   ],
   "source": [
    "T = churn[\"Account Length\"]\n",
    "C = churn[\"Churn?\"]\n",
    "kmf.fit(T, event_observed=C )"
   ]
  },
  {
   "cell_type": "markdown",
   "metadata": {},
   "source": [
    "## Plot Survival Curve"
   ]
  },
  {
   "cell_type": "code",
   "execution_count": 11,
   "metadata": {
    "collapsed": false
   },
   "outputs": [
    {
     "data": {
      "image/png": "[encoded data removed]",
      "text/plain": [
       "<matplotlib.figure.Figure at 0x7f3ee73e7790>"
      ]
     },
     "metadata": {},
     "output_type": "display_data"
    }
   ],
   "source": [
    "# average churn percentage per timeline\n",
    "kmf.plot()\n",
    "plt.title(\"Survival/Churn Function\")\n",
    "plt.ylabel(\"Churn percentage\")\n",
    "#sns.despine()\n",
    "plt.show()"
   ]
  },
  {
   "cell_type": "markdown",
   "metadata": {},
   "source": [
    "## Plot Survival Curve for Different States"
   ]
  },
  {
   "cell_type": "code",
   "execution_count": 12,
   "metadata": {
    "collapsed": false
   },
   "outputs": [
    {
     "data": {
      "image/png": "[encoded data removed]",
      "text/plain": [
       "<matplotlib.figure.Figure at 0x7f3ee6fd5890>"
      ]
     },
     "metadata": {},
     "output_type": "display_data"
    }
   ],
   "source": [
    "ax = plt.subplot(111)\n",
    "\n",
    "state_list = [(\"NY\", \"New York\"),\n",
    "              (\"CA\", \"California\"),\n",
    "              (\"FL\", \"Florida\"),\n",
    "              (\"TX\", \"Texas\"),\n",
    "              (\"KS\", \"Kansas\")]\n",
    "\n",
    "\n",
    "for state, name in state_list:\n",
    "    state_idx = churn[\"State\"] == state\n",
    "    kmf.fit(T[state_idx], event_observed=C[state_idx], label=name)\n",
    "    kmf.plot(ax=ax, ci_show=False)\n",
    "\n",
    "plt.ylim(0,1)\n",
    "plt.ylabel(\"Churn percentage\")\n",
    "plt.title(\"Churn Lifetime of Customers in Different States\")\n",
    "plt.show()"
   ]
  },
  {
   "cell_type": "code",
   "execution_count": 13,
   "metadata": {
    "collapsed": false
   },
   "outputs": [
    {
     "name": "stdout",
     "output_type": "stream",
     "text": [
      "Median user stay:  170.0\n"
     ]
    }
   ],
   "source": [
    "print \"Median user stay: \", kmf.median_"
   ]
  },
  {
   "cell_type": "code",
   "execution_count": 14,
   "metadata": {
    "collapsed": false,
    "scrolled": false
   },
   "outputs": [],
   "source": [
    "#pd.pivot_table(churn, index=[\"Churn?\"], aggfunc=[len])"
   ]
  },
  {
   "cell_type": "code",
   "execution_count": 15,
   "metadata": {
    "collapsed": false
   },
   "outputs": [],
   "source": [
    "# df1 = pd.DataFrame(churn[\"Churn?\"], columns=[\"Churn?\"])\n",
    "# df1.rename(columns= {\"Churn?\":\"Churn\"}, inplace=True)\n",
    "\n",
    "# reverse_map = {0:1, 1:0}\n",
    "# df1[\"NotChurn\"] = df1[[\"Churn\"]].applymap(lambda x: reverse_map[x])"
   ]
  },
  {
   "cell_type": "code",
   "execution_count": 16,
   "metadata": {
    "collapsed": false
   },
   "outputs": [],
   "source": [
    "#sns.barplot(x = [\"Churn\", \"NotChurn\"],  data = df1)"
   ]
  },
  {
   "cell_type": "markdown",
   "metadata": {},
   "source": [
    "## Imbalanced Classes"
   ]
  },
  {
   "cell_type": "code",
   "execution_count": 17,
   "metadata": {
    "collapsed": false
   },
   "outputs": [
    {
     "data": {
      "text/plain": [
       "0.14491449144914492"
      ]
     },
     "execution_count": 17,
     "metadata": {},
     "output_type": "execute_result"
    }
   ],
   "source": [
    "churn[\"Churn?\"].mean()"
   ]
  },
  {
   "cell_type": "code",
   "execution_count": 18,
   "metadata": {
    "collapsed": false
   },
   "outputs": [
    {
     "data": {
      "image/png": "[encoded data removed]",
      "text/plain": [
       "<matplotlib.figure.Figure at 0x7f3ee6f7cad0>"
      ]
     },
     "metadata": {},
     "output_type": "display_data"
    }
   ],
   "source": [
    "# Create a new temporary dataframe to help us plot these variables.\n",
    "df1 = pd.melt(churn, id_vars=['Churn?'], value_vars=[\"VMail Plan\",\"Int'l Plan\"], var_name='variable' )\n",
    "\n",
    "# Create a factorplot\n",
    "g = sns.factorplot( x=\"variable\", y=\"Churn?\", hue='value', data=df1, size=4, aspect=2, kind=\"bar\", palette=\"Set2\", ci=None )\n",
    "g.despine(left=True)\n",
    "g.set_ylabels(\"Churn Rate\")\n",
    "plt.show()"
   ]
  },
  {
   "cell_type": "code",
   "execution_count": 19,
   "metadata": {
    "collapsed": false
   },
   "outputs": [
    {
     "data": {
      "image/png": "[encoded data removed]",
      "text/plain": [
       "<matplotlib.figure.Figure at 0x7f3ee6ef1a90>"
      ]
     },
     "metadata": {},
     "output_type": "display_data"
    }
   ],
   "source": [
    "plt.figure(figsize=(16, 12))\n",
    "\n",
    "for e, column in enumerate(['Day Mins','Day Charge']):\n",
    "    plt.subplot(1, 2, e + 1)\n",
    "    sns.violinplot( data=churn, x='Churn?', y=column, palette=\"Set2\")"
   ]
  },
  {
   "cell_type": "code",
   "execution_count": 20,
   "metadata": {
    "collapsed": true
   },
   "outputs": [],
   "source": [
    "# churn['DayMin_Call'] = churn['Day Mins'] / churn['Day Calls']\n",
    "# churn['EveMin_Call'] = churn['Eve Mins'] / churn['Eve Calls']\n",
    "# churn['NightMinP_Call'] = churn['Night Mins'] / churn['Night Calls']\n",
    "# churn['DayPrice_Min'] = churn['Day Charge'] / churn['Day Mins']\n",
    "# churn['EvePrice_Min'] = churn['Eve Charge'] / churn['Eve Mins']\n",
    "# churn['NightPrice_Min'] = churn['Night Charge'] / churn['Night Mins']"
   ]
  },
  {
   "cell_type": "code",
   "execution_count": 21,
   "metadata": {
    "collapsed": false
   },
   "outputs": [],
   "source": [
    "# new_features = ['DayMin_Call', 'EveMin_Call', 'NightMinP_Call', 'DayPrice_Min', 'EvePrice_Min', 'NightPrice_Min']\n",
    "# for feature in new_features:\n",
    "#     churn.loc[churn[feature].isnull(), feature] = 0"
   ]
  },
  {
   "cell_type": "code",
   "execution_count": 22,
   "metadata": {
    "collapsed": false
   },
   "outputs": [],
   "source": [
    "#churn['NoVMail Messages'] = np.where(churn['VMail Message'] < 1, \"yes\", \"no\")\n",
    "churn['NoVMail Messages'] = np.where(churn['VMail Message'] < 1, 1, 0)"
   ]
  },
  {
   "cell_type": "code",
   "execution_count": null,
   "metadata": {
    "collapsed": true
   },
   "outputs": [],
   "source": []
  },
  {
   "cell_type": "code",
   "execution_count": null,
   "metadata": {
    "collapsed": false
   },
   "outputs": [],
   "source": []
  },
  {
   "cell_type": "code",
   "execution_count": null,
   "metadata": {
    "collapsed": false
   },
   "outputs": [],
   "source": []
  },
  {
   "cell_type": "code",
   "execution_count": null,
   "metadata": {
    "collapsed": false
   },
   "outputs": [],
   "source": []
  },
  {
   "cell_type": "code",
   "execution_count": 23,
   "metadata": {
    "collapsed": false
   },
   "outputs": [
    {
     "name": "stdout",
     "output_type": "stream",
     "text": [
      "       len  sum      mean       std\n",
      "State                              \n",
      "AK      52    3  0.057692  0.235435\n",
      "AL      80    8  0.100000  0.301893\n",
      "AR      55   11  0.200000  0.403687\n",
      "AZ      64    4  0.062500  0.243975\n",
      "CA      34    9  0.264706  0.447811\n"
     ]
    }
   ],
   "source": [
    "state = pd.read_csv('state_latlon.csv')\n",
    "pvtable = churn.pivot_table(index='State', values='Churn?', aggfunc=[len, np.sum, np.mean, np.std] )\n",
    "print pvtable.head()"
   ]
  },
  {
   "cell_type": "code",
   "execution_count": 24,
   "metadata": {
    "collapsed": false
   },
   "outputs": [
    {
     "name": "stdout",
     "output_type": "stream",
     "text": [
      "   len  sum      mean       std state  latitude  longitude\n",
      "0   52    3  0.057692  0.235435    AK    61.385  -152.2683\n",
      "1   80    8  0.100000  0.301893    AL    32.799   -86.8073\n"
     ]
    }
   ],
   "source": [
    "state_merged = pd.merge(pvtable,state,left_index=True,right_on='state')\n",
    "print state_merged.head(2)"
   ]
  },
  {
   "cell_type": "code",
   "execution_count": 25,
   "metadata": {
    "collapsed": false
   },
   "outputs": [
    {
     "data": {
      "image/png": "[encoded data removed]",
      "text/plain": [
       "<matplotlib.figure.Figure at 0x7f3ee6cc1050>"
      ]
     },
     "metadata": {},
     "output_type": "display_data"
    }
   ],
   "source": [
    "plt.figure(figsize=(12,6))\n",
    "plt.scatter(\n",
    "    x=state_merged.longitude,\n",
    "    y=state_merged.latitude,\n",
    "    s=state_merged['mean']*20**2,\n",
    "    c=state_merged['mean'],\n",
    "    cmap=plt.get_cmap('Blues')\n",
    ")\n",
    "pass"
   ]
  },
  {
   "cell_type": "code",
   "execution_count": 26,
   "metadata": {
    "collapsed": false
   },
   "outputs": [],
   "source": [
    "churn[\"latitude\"] = churn[[\"State\"]].applymap(lambda x: state[state[\"state\"] == x][\"latitude\"].values[0])\n",
    "churn[\"longitude\"] = churn[[\"State\"]].applymap(lambda x: state[state[\"state\"] == x][\"longitude\"].values[0])"
   ]
  },
  {
   "cell_type": "code",
   "execution_count": 27,
   "metadata": {
    "collapsed": false
   },
   "outputs": [],
   "source": [
    "churn.drop(\"State\", axis=1, inplace=True)"
   ]
  },
  {
   "cell_type": "code",
   "execution_count": 31,
   "metadata": {
    "collapsed": false
   },
   "outputs": [
    {
     "name": "stdout",
     "output_type": "stream",
     "text": [
      "New data dimensions:  (3333, 170)\n"
     ]
    }
   ],
   "source": [
    "from sklearn.preprocessing import PolynomialFeatures\n",
    "no_poly_features = [\"Int'l Plan\", \"VMail Plan\", \"NoVMail Messages\", \"Area Code\"]\n",
    "\n",
    "churn_poly = churn.drop(no_poly_features + [\"Churn?\"], axis=1, inplace=False)\n",
    "\n",
    "poly = PolynomialFeatures(degree = 2, include_bias=False)\n",
    "churn_poly_arr = poly.fit_transform(churn_poly.values)\n",
    "\n",
    "print \"New data dimensions: \", churn_poly_arr.shape\n",
    "\n",
    "poly_df = pd.DataFrame(churn_poly_arr)\n",
    "full_churn = poly_df.join(churn[no_poly_features])"
   ]
  },
  {
   "cell_type": "code",
   "execution_count": 33,
   "metadata": {
    "collapsed": false
   },
   "outputs": [],
   "source": [
    "y = churn[\"Churn?\"].values\n",
    "\n",
    "#churn.drop(\"Churn?\", axis=1, inplace=True)\n",
    "\n",
    "#X = churn.values\n",
    "#X = churn_cont_arr\n",
    "X = full_churn.values"
   ]
  },
  {
   "cell_type": "code",
   "execution_count": 34,
   "metadata": {
    "collapsed": false,
    "scrolled": true
   },
   "outputs": [
    {
     "data": {
      "text/plain": [
       "array([  1.28000000e+02,   2.50000000e+01,   2.65100000e+02,\n",
       "         1.10000000e+02,   4.50700000e+01,   1.97400000e+02,\n",
       "         9.90000000e+01,   1.67800000e+01,   2.44700000e+02,\n",
       "         9.10000000e+01,   1.10100000e+01,   1.00000000e+01,\n",
       "         3.00000000e+00,   2.70000000e+00,   1.00000000e+00,\n",
       "         3.85111000e+01,  -9.68005000e+01,   1.63840000e+04,\n",
       "         3.20000000e+03,   3.39328000e+04,   1.40800000e+04,\n",
       "         5.76896000e+03,   2.52672000e+04,   1.26720000e+04,\n",
       "         2.14784000e+03,   3.13216000e+04,   1.16480000e+04,\n",
       "         1.40928000e+03,   1.28000000e+03,   3.84000000e+02,\n",
       "         3.45600000e+02,   1.28000000e+02,   4.92942080e+03,\n",
       "        -1.23904640e+04,   6.25000000e+02,   6.62750000e+03,\n",
       "         2.75000000e+03,   1.12675000e+03,   4.93500000e+03,\n",
       "         2.47500000e+03,   4.19500000e+02,   6.11750000e+03,\n",
       "         2.27500000e+03,   2.75250000e+02,   2.50000000e+02,\n",
       "         7.50000000e+01,   6.75000000e+01,   2.50000000e+01,\n",
       "         9.62777500e+02,  -2.42001250e+03,   7.02780100e+04,\n",
       "         2.91610000e+04,   1.19480570e+04,   5.23307400e+04,\n",
       "         2.62449000e+04,   4.44837800e+03,   6.48699700e+04,\n",
       "         2.41241000e+04,   2.91875100e+03,   2.65100000e+03,\n",
       "         7.95300000e+02,   7.15770000e+02,   2.65100000e+02,\n",
       "         1.02092926e+04,  -2.56618126e+04,   1.21000000e+04,\n",
       "         4.95770000e+03,   2.17140000e+04,   1.08900000e+04,\n",
       "         1.84580000e+03,   2.69170000e+04,   1.00100000e+04,\n",
       "         1.21110000e+03,   1.10000000e+03,   3.30000000e+02,\n",
       "         2.97000000e+02,   1.10000000e+02,   4.23622100e+03,\n",
       "        -1.06480550e+04,   2.03130490e+03,   8.89681800e+03,\n",
       "         4.46193000e+03,   7.56274600e+02,   1.10286290e+04,\n",
       "         4.10137000e+03,   4.96220700e+02,   4.50700000e+02,\n",
       "         1.35210000e+02,   1.21689000e+02,   4.50700000e+01,\n",
       "         1.73569528e+03,  -4.36279853e+03,   3.89667600e+04,\n",
       "         1.95426000e+04,   3.31237200e+03,   4.83037800e+04,\n",
       "         1.79634000e+04,   2.17337400e+03,   1.97400000e+03,\n",
       "         5.92200000e+02,   5.32980000e+02,   1.97400000e+02,\n",
       "         7.60209114e+03,  -1.91084187e+04,   9.80100000e+03,\n",
       "         1.66122000e+03,   2.42253000e+04,   9.00900000e+03,\n",
       "         1.08999000e+03,   9.90000000e+02,   2.97000000e+02,\n",
       "         2.67300000e+02,   9.90000000e+01,   3.81259890e+03,\n",
       "        -9.58324950e+03,   2.81568400e+02,   4.10606600e+03,\n",
       "         1.52698000e+03,   1.84747800e+02,   1.67800000e+02,\n",
       "         5.03400000e+01,   4.53060000e+01,   1.67800000e+01,\n",
       "         6.46216258e+02,  -1.62431239e+03,   5.98780900e+04,\n",
       "         2.22677000e+04,   2.69414700e+03,   2.44700000e+03,\n",
       "         7.34100000e+02,   6.60690000e+02,   2.44700000e+02,\n",
       "         9.42366617e+03,  -2.36870824e+04,   8.28100000e+03,\n",
       "         1.00191000e+03,   9.10000000e+02,   2.73000000e+02,\n",
       "         2.45700000e+02,   9.10000000e+01,   3.50451010e+03,\n",
       "        -8.80884550e+03,   1.21220100e+02,   1.10100000e+02,\n",
       "         3.30300000e+01,   2.97270000e+01,   1.10100000e+01,\n",
       "         4.24007211e+02,  -1.06577350e+03,   1.00000000e+02,\n",
       "         3.00000000e+01,   2.70000000e+01,   1.00000000e+01,\n",
       "         3.85111000e+02,  -9.68005000e+02,   9.00000000e+00,\n",
       "         8.10000000e+00,   3.00000000e+00,   1.15533300e+02,\n",
       "        -2.90401500e+02,   7.29000000e+00,   2.70000000e+00,\n",
       "         1.03979970e+02,  -2.61361350e+02,   1.00000000e+00,\n",
       "         3.85111000e+01,  -9.68005000e+01,   1.48310482e+03,\n",
       "        -3.72789374e+03,   9.37033680e+03,   0.00000000e+00,\n",
       "         1.00000000e+00,   0.00000000e+00,   4.15000000e+02])"
      ]
     },
     "execution_count": 34,
     "metadata": {},
     "output_type": "execute_result"
    }
   ],
   "source": [
    "X[0,:]"
   ]
  },
  {
   "cell_type": "markdown",
   "metadata": {},
   "source": [
    "## XGBoost Cross Validation"
   ]
  },
  {
   "cell_type": "code",
   "execution_count": 35,
   "metadata": {
    "collapsed": false
   },
   "outputs": [],
   "source": [
    "from sklearn.cross_validation import cross_val_score\n",
    "from xgboost import XGBClassifier\n",
    "from bayes_opt import BayesianOptimization"
   ]
  },
  {
   "cell_type": "code",
   "execution_count": 36,
   "metadata": {
    "collapsed": true
   },
   "outputs": [],
   "source": [
    "#train = X[:,1:]\n",
    "train = X\n",
    "labels = y"
   ]
  },
  {
   "cell_type": "code",
   "execution_count": 37,
   "metadata": {
    "collapsed": true
   },
   "outputs": [],
   "source": [
    "def xgboostcv(max_depth,\n",
    "              learning_rate,\n",
    "              n_estimators,\n",
    "              gamma,\n",
    "              min_child_weight,\n",
    "              max_delta_step,\n",
    "              subsample,\n",
    "              colsample_bytree,\n",
    "              silent =True,\n",
    "              nthread = -1,\n",
    "              seed = 1234):\n",
    "    return cross_val_score(XGBClassifier(max_depth = int(max_depth),\n",
    "                                         learning_rate = learning_rate,\n",
    "                                         n_estimators = int(n_estimators),\n",
    "                                         silent = silent,\n",
    "                                         nthread = nthread,\n",
    "                                         gamma = gamma,\n",
    "                                         min_child_weight = min_child_weight,\n",
    "                                         max_delta_step = max_delta_step,\n",
    "                                         subsample = subsample,\n",
    "                                         colsample_bytree = colsample_bytree,\n",
    "                                         seed = seed,\n",
    "                                         objective = \"binary:logistic\"),\n",
    "                           train,\n",
    "                           labels,\n",
    "                           \"f1\",\n",
    "                           cv=5).mean()"
   ]
  },
  {
   "cell_type": "markdown",
   "metadata": {},
   "source": [
    "## Bayesian Optimization for Parameter Tuning"
   ]
  },
  {
   "cell_type": "code",
   "execution_count": 38,
   "metadata": {
    "collapsed": true
   },
   "outputs": [],
   "source": [
    "xgboostBO = BayesianOptimization(xgboostcv,\n",
    "                                     {'max_depth': (3, 30),\n",
    "                                      'learning_rate': (0.01, 0.5),\n",
    "                                      'n_estimators': (90, 800),\n",
    "                                      'gamma': (100., 0.1),\n",
    "                                      'min_child_weight': (1, 10),\n",
    "                                      'max_delta_step': (0, 3),\n",
    "                                      'subsample': (0.7, 0.8),\n",
    "                                      'colsample_bytree' :(0.4, 0.99)\n",
    "                                     })"
   ]
  },
  {
   "cell_type": "code",
   "execution_count": 39,
   "metadata": {
    "collapsed": false
   },
   "outputs": [
    {
     "name": "stdout",
     "output_type": "stream",
     "text": [
      "\u001b[31mInitialization\u001b[0m\n",
      "\u001b[94m---------------------------------------------------------------------------------------------------------------------------------------------------------------------\u001b[0m\n",
      " Step |   Time |      Value |   colsample_bytree |     gamma |   learning_rate |   max_delta_step |   max_depth |   min_child_weight |   n_estimators |   subsample | \n",
      "    1 | 00m23s | \u001b[35m   0.32754\u001b[0m | \u001b[32m            0.9298\u001b[0m | \u001b[32m  97.1978\u001b[0m | \u001b[32m         0.4157\u001b[0m | \u001b[32m          2.3124\u001b[0m | \u001b[32m    24.8096\u001b[0m | \u001b[32m            2.4175\u001b[0m | \u001b[32m      586.0870\u001b[0m | \u001b[32m     0.7072\u001b[0m | \n",
      "    2 | 00m09s | \u001b[35m   0.34846\u001b[0m | \u001b[32m            0.5933\u001b[0m | \u001b[32m  77.2305\u001b[0m | \u001b[32m         0.2350\u001b[0m | \u001b[32m          2.0030\u001b[0m | \u001b[32m    18.4199\u001b[0m | \u001b[32m            7.1518\u001b[0m | \u001b[32m      442.1999\u001b[0m | \u001b[32m     0.7468\u001b[0m | \n",
      "    3 | 00m08s | \u001b[35m   0.83645\u001b[0m | \u001b[32m            0.7521\u001b[0m | \u001b[32m   7.0613\u001b[0m | \u001b[32m         0.2638\u001b[0m | \u001b[32m          1.7833\u001b[0m | \u001b[32m     9.0954\u001b[0m | \u001b[32m            5.7450\u001b[0m | \u001b[32m      498.1115\u001b[0m | \u001b[32m     0.7614\u001b[0m | \n",
      "    4 | 00m04s |    0.82741 |             0.5398 |    4.0394 |          0.0371 |           2.9132 |     19.0508 |             9.0460 |       338.4286 |      0.7122 | \n",
      "    5 | 00m04s |    0.78859 |             0.7029 |   12.2374 |          0.3993 |           1.2931 |     23.0168 |             9.7323 |       313.9929 |      0.7471 | \n",
      "\u001b[31mBayesian Optimization\u001b[0m\n",
      "\u001b[94m---------------------------------------------------------------------------------------------------------------------------------------------------------------------\u001b[0m\n",
      " Step |   Time |      Value |   colsample_bytree |     gamma |   learning_rate |   max_delta_step |   max_depth |   min_child_weight |   n_estimators |   subsample | \n"
     ]
    },
    {
     "name": "stderr",
     "output_type": "stream",
     "text": [
      "/home/ubuntu/anaconda2/lib/python2.7/site-packages/sklearn/metrics/classification.py:1074: UndefinedMetricWarning: F-score is ill-defined and being set to 0.0 due to no predicted samples.\n",
      "  'precision', 'predicted', average, warn_for)\n"
     ]
    },
    {
     "name": "stdout",
     "output_type": "stream",
     "text": [
      "    6 | 00m27s |    0.00000 |             0.9562 |  100.0000 |          0.2949 |           0.2559 |     17.6053 |             8.2168 |        97.9027 |      0.7096 | \n",
      "    7 | 00m20s |    0.11049 |             0.7478 |  100.0000 |          0.4016 |           0.7303 |      6.3801 |             3.6448 |       470.8766 |      0.7130 | \n",
      "    8 | 00m27s |    0.31901 |             0.8010 |  100.0000 |          0.4397 |           2.6230 |     22.4189 |             7.6215 |       738.7536 |      0.7661 | \n",
      "    9 | 00m34s |    0.04377 |             0.9141 |  100.0000 |          0.1696 |           1.2846 |     24.0258 |             4.4261 |       646.2551 |      0.7119 | \n",
      "   10 | 00m23s |    0.13277 |             0.5411 |  100.0000 |          0.1760 |           1.8979 |     26.1963 |             4.3721 |       661.0980 |      0.7683 | \n",
      "   11 | 00m22s |    0.09166 |             0.6193 |  100.0000 |          0.1908 |           2.7531 |     17.7388 |             1.7289 |       244.9996 |      0.7377 | \n",
      "   12 | 00m16s |    0.00000 |             0.6790 |  100.0000 |          0.3064 |           0.4733 |     15.1639 |             8.2876 |       296.6949 |      0.7354 | \n",
      "   13 | 00m16s |    0.00000 |             0.7494 |  100.0000 |          0.4800 |           0.0602 |     11.1548 |             8.3736 |       146.6458 |      0.7295 | \n",
      "   14 | 00m20s |    0.00000 |             0.8421 |  100.0000 |          0.3033 |           0.1072 |     10.6854 |             9.5731 |       447.5317 |      0.7721 | \n",
      "   15 | 00m24s |    0.05112 |             0.6227 |  100.0000 |          0.1364 |           2.9856 |     18.9748 |             5.4366 |       440.6560 |      0.7258 | \n",
      "   16 | 00m24s |    0.39912 |             0.9442 |  100.0000 |          0.4149 |           2.0155 |     22.0494 |             7.0632 |       283.1183 |      0.7540 | \n",
      "   17 | 00m26s |    0.08982 |             0.5615 |  100.0000 |          0.1600 |           2.6281 |     23.0008 |             3.1881 |       422.5874 |      0.7198 | \n",
      "   18 | 00m25s |    0.08570 |             0.5145 |  100.0000 |          0.2838 |           1.1575 |     15.7278 |             4.3565 |       497.7462 |      0.7029 | \n",
      "   19 | 00m29s |    0.45635 |             0.7020 |  100.0000 |          0.4791 |           1.8431 |     15.2032 |             5.6956 |       556.0827 |      0.7813 | \n",
      "   20 | 00m25s |    0.01200 |             0.7174 |  100.0000 |          0.2304 |           0.7186 |     14.3766 |             8.9120 |       400.0349 |      0.7847 | \n",
      "   21 | 00m18s |    0.14962 |             0.4120 |  100.0000 |          0.3510 |           2.6114 |     26.6910 |             3.5110 |       152.4482 |      0.7775 | \n",
      "   22 | 00m19s |    0.00000 |             0.6464 |  100.0000 |          0.3070 |           0.2007 |     18.7312 |             6.9317 |       272.0520 |      0.7503 | \n",
      "   23 | 00m17s |    0.00000 |             0.6083 |  100.0000 |          0.0140 |           1.5407 |     24.5552 |             8.5930 |       176.5882 |      0.7656 | \n",
      "   24 | 00m28s |    0.00000 |             0.9126 |  100.0000 |          0.4053 |           0.1601 |      8.9279 |             6.7347 |       752.1617 |      0.7875 | \n",
      "   25 | 00m20s |    0.00000 |             0.4613 |  100.0000 |          0.2060 |           0.7090 |     12.0151 |             3.9056 |       328.3512 |      0.7472 | \n",
      "   26 | 00m27s |    0.14648 |             0.6851 |  100.0000 |          0.1535 |           1.7011 |     11.8013 |             9.2425 |       756.4130 |      0.7916 | \n",
      "   27 | 00m19s |    0.15577 |             0.7383 |  100.0000 |          0.2945 |           2.4491 |     17.3947 |             8.7164 |       118.1908 |      0.7803 | \n",
      "   28 | 00m18s |    0.01569 |             0.4999 |  100.0000 |          0.1368 |           0.7902 |     18.8321 |             8.4030 |       181.1070 |      0.7541 | \n",
      "   29 | 00m22s |    0.36233 |             0.8282 |  100.0000 |          0.3709 |           2.6523 |      6.5391 |             9.5440 |       359.5039 |      0.7263 | \n",
      "   30 | 00m33s |    0.12573 |             0.9467 |  100.0000 |          0.3364 |           2.1746 |     13.8967 |             2.4555 |       391.5888 |      0.7761 | \n",
      "-----------------------------------------------------\n",
      "Final Results\n",
      "XGBOOST: 0.836454\n"
     ]
    }
   ],
   "source": [
    "xgboostBO.maximize()\n",
    "print('-'*53)\n",
    "\n",
    "print('Final Results')\n",
    "print('XGBOOST: %f' % xgboostBO.res['max']['max_val'])"
   ]
  },
  {
   "cell_type": "code",
   "execution_count": 40,
   "metadata": {
    "collapsed": false,
    "scrolled": false
   },
   "outputs": [
    {
     "name": "stdout",
     "output_type": "stream",
     "text": [
      "F1 Score:  0.836453754787\n"
     ]
    },
    {
     "data": {
      "text/plain": [
       "{'colsample_bytree': 0.75206244581274062,\n",
       " 'gamma': 7.0613136780964112,\n",
       " 'learning_rate': 0.26381323754962049,\n",
       " 'max_delta_step': 1.7832654725180621,\n",
       " 'max_depth': 9.0953808606979738,\n",
       " 'min_child_weight': 5.745023066165369,\n",
       " 'n_estimators': 498.11153445322185,\n",
       " 'subsample': 0.76138772190241055}"
      ]
     },
     "execution_count": 40,
     "metadata": {},
     "output_type": "execute_result"
    }
   ],
   "source": [
    "params = xgboostBO.res[\"max\"][\"max_params\"]\n",
    "\n",
    "print \"F1 Score: \", xgboostBO.res['max']['max_val']\n",
    "params"
   ]
  },
  {
   "cell_type": "code",
   "execution_count": null,
   "metadata": {
    "collapsed": false
   },
   "outputs": [],
   "source": [
    "#xgboostcv(**params)\n",
    "# F1: 0.82786420719981924\n",
    "# F1: 0.837533"
   ]
  },
  {
   "cell_type": "code",
   "execution_count": null,
   "metadata": {
    "collapsed": true
   },
   "outputs": [],
   "source": []
  }
 ],
 "metadata": {
  "kernelspec": {
   "display_name": "Python 2",
   "language": "python",
   "name": "python2"
  },
  "language_info": {
   "codemirror_mode": {
    "name": "ipython",
    "version": 2
   },
   "file_extension": ".py",
   "mimetype": "text/x-python",
   "name": "python",
   "nbconvert_exporter": "python",
   "pygments_lexer": "ipython2",
   "version": "2.7.11"
  }
 },
 "nbformat": 4,
 "nbformat_minor": 0
}
